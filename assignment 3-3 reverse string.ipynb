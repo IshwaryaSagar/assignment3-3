{
 "cells": [
  {
   "cell_type": "code",
   "execution_count": 1,
   "id": "d891a5c6",
   "metadata": {},
   "outputs": [
    {
     "name": "stdout",
     "output_type": "stream",
     "text": [
      "the given string is::: 1234abcd\n",
      "the reversed string is::: dcba4321\n",
      "******THE END*******\n"
     ]
    }
   ],
   "source": [
    "str= \"1234abcd\"\n",
    "rev_str=str[ : :-1]\n",
    "print(\"the given string is:::\", str)\n",
    "print(\"the reversed string is:::\",rev_str)\n",
    "print(\"THE END\".center(20,'*'))"
   ]
  },
  {
   "cell_type": "code",
   "execution_count": null,
   "id": "f9b64879",
   "metadata": {},
   "outputs": [],
   "source": []
  }
 ],
 "metadata": {
  "kernelspec": {
   "display_name": "Python 3 (ipykernel)",
   "language": "python",
   "name": "python3"
  },
  "language_info": {
   "codemirror_mode": {
    "name": "ipython",
    "version": 3
   },
   "file_extension": ".py",
   "mimetype": "text/x-python",
   "name": "python",
   "nbconvert_exporter": "python",
   "pygments_lexer": "ipython3",
   "version": "3.9.7"
  }
 },
 "nbformat": 4,
 "nbformat_minor": 5
}
